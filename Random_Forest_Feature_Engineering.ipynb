{
  "cells": [
    {
      "cell_type": "markdown",
      "metadata": {
        "id": "view-in-github",
        "colab_type": "text"
      },
      "source": [
        "<a href=\"https://colab.research.google.com/github/FIngul98/Loan_Dataset/blob/main/Random_Forest_Feature_Engineering.ipynb\" target=\"_parent\"><img src=\"https://colab.research.google.com/assets/colab-badge.svg\" alt=\"Open In Colab\"/></a>"
      ]
    },
    {
      "cell_type": "code",
      "execution_count": 1,
      "metadata": {
        "id": "-VKvSOnXSLqK"
      },
      "outputs": [],
      "source": [
        "import pandas as pd\n",
        "import numpy as np\n",
        "import sklearn\n",
        "import seaborn\n",
        "import sys\n",
        "import scipy\n",
        "import seaborn as sns\n",
        "import matplotlib.pyplot as plt\n",
        "from collections import Counter\n",
        "from sklearn.tree import DecisionTreeClassifier\n",
        "from sklearn.ensemble import RandomForestClassifier\n",
        "from sklearn.metrics import classification_report,confusion_matrix\n",
        "from sklearn.model_selection import RandomizedSearchCV\n",
        "from sklearn.model_selection import train_test_split\n",
        "from sklearn.ensemble import RandomForestClassifier\n",
        "from sklearn.tree import DecisionTreeClassifier\n",
        "from sklearn.tree import export_graphviz\n",
        "from sklearn.metrics import plot_confusion_matrix"
      ]
    },
    {
      "cell_type": "code",
      "execution_count": 2,
      "metadata": {
        "colab": {
          "base_uri": "https://localhost:8080/",
          "height": 483
        },
        "id": "_AvWT4G7SnL5",
        "outputId": "78ba5b7e-9b1a-4ebf-ff55-1645d09fb1d0"
      },
      "outputs": [
        {
          "output_type": "execute_result",
          "data": {
            "text/plain": [
              "      credit.policy             purpose  int.rate  installment  \\\n",
              "0                 1  debt_consolidation    0.1189       829.10   \n",
              "1                 1         credit_card    0.1071       228.22   \n",
              "2                 1  debt_consolidation    0.1357       366.86   \n",
              "3                 1  debt_consolidation    0.1008       162.34   \n",
              "4                 1         credit_card    0.1426       102.92   \n",
              "...             ...                 ...       ...          ...   \n",
              "9573              0           all_other    0.1461       344.76   \n",
              "9574              0           all_other    0.1253       257.70   \n",
              "9575              0  debt_consolidation    0.1071        97.81   \n",
              "9576              0    home_improvement    0.1600       351.58   \n",
              "9577              0  debt_consolidation    0.1392       853.43   \n",
              "\n",
              "      log.annual.inc    dti  fico  days.with.cr.line  revol.bal  revol.util  \\\n",
              "0          11.350407  19.48   737        5639.958333      28854        52.1   \n",
              "1          11.082143  14.29   707        2760.000000      33623        76.7   \n",
              "2          10.373491  11.63   682        4710.000000       3511        25.6   \n",
              "3          11.350407   8.10   712        2699.958333      33667        73.2   \n",
              "4          11.299732  14.97   667        4066.000000       4740        39.5   \n",
              "...              ...    ...   ...                ...        ...         ...   \n",
              "9573       12.180755  10.39   672       10474.000000     215372        82.1   \n",
              "9574       11.141862   0.21   722        4380.000000        184         1.1   \n",
              "9575       10.596635  13.09   687        3450.041667      10036        82.9   \n",
              "9576       10.819778  19.18   692        1800.000000          0         3.2   \n",
              "9577       11.264464  16.28   732        4740.000000      37879        57.0   \n",
              "\n",
              "      inq.last.6mths  delinq.2yrs  pub.rec  not.fully.paid  \n",
              "0                  0            0        0               0  \n",
              "1                  0            0        0               0  \n",
              "2                  1            0        0               0  \n",
              "3                  1            0        0               0  \n",
              "4                  0            1        0               0  \n",
              "...              ...          ...      ...             ...  \n",
              "9573               2            0        0               1  \n",
              "9574               5            0        0               1  \n",
              "9575               8            0        0               1  \n",
              "9576               5            0        0               1  \n",
              "9577               6            0        0               1  \n",
              "\n",
              "[9578 rows x 14 columns]"
            ],
            "text/html": [
              "\n",
              "  <div id=\"df-7ba58af3-1fd5-470f-bbee-02bd9e46d1fe\">\n",
              "    <div class=\"colab-df-container\">\n",
              "      <div>\n",
              "<style scoped>\n",
              "    .dataframe tbody tr th:only-of-type {\n",
              "        vertical-align: middle;\n",
              "    }\n",
              "\n",
              "    .dataframe tbody tr th {\n",
              "        vertical-align: top;\n",
              "    }\n",
              "\n",
              "    .dataframe thead th {\n",
              "        text-align: right;\n",
              "    }\n",
              "</style>\n",
              "<table border=\"1\" class=\"dataframe\">\n",
              "  <thead>\n",
              "    <tr style=\"text-align: right;\">\n",
              "      <th></th>\n",
              "      <th>credit.policy</th>\n",
              "      <th>purpose</th>\n",
              "      <th>int.rate</th>\n",
              "      <th>installment</th>\n",
              "      <th>log.annual.inc</th>\n",
              "      <th>dti</th>\n",
              "      <th>fico</th>\n",
              "      <th>days.with.cr.line</th>\n",
              "      <th>revol.bal</th>\n",
              "      <th>revol.util</th>\n",
              "      <th>inq.last.6mths</th>\n",
              "      <th>delinq.2yrs</th>\n",
              "      <th>pub.rec</th>\n",
              "      <th>not.fully.paid</th>\n",
              "    </tr>\n",
              "  </thead>\n",
              "  <tbody>\n",
              "    <tr>\n",
              "      <th>0</th>\n",
              "      <td>1</td>\n",
              "      <td>debt_consolidation</td>\n",
              "      <td>0.1189</td>\n",
              "      <td>829.10</td>\n",
              "      <td>11.350407</td>\n",
              "      <td>19.48</td>\n",
              "      <td>737</td>\n",
              "      <td>5639.958333</td>\n",
              "      <td>28854</td>\n",
              "      <td>52.1</td>\n",
              "      <td>0</td>\n",
              "      <td>0</td>\n",
              "      <td>0</td>\n",
              "      <td>0</td>\n",
              "    </tr>\n",
              "    <tr>\n",
              "      <th>1</th>\n",
              "      <td>1</td>\n",
              "      <td>credit_card</td>\n",
              "      <td>0.1071</td>\n",
              "      <td>228.22</td>\n",
              "      <td>11.082143</td>\n",
              "      <td>14.29</td>\n",
              "      <td>707</td>\n",
              "      <td>2760.000000</td>\n",
              "      <td>33623</td>\n",
              "      <td>76.7</td>\n",
              "      <td>0</td>\n",
              "      <td>0</td>\n",
              "      <td>0</td>\n",
              "      <td>0</td>\n",
              "    </tr>\n",
              "    <tr>\n",
              "      <th>2</th>\n",
              "      <td>1</td>\n",
              "      <td>debt_consolidation</td>\n",
              "      <td>0.1357</td>\n",
              "      <td>366.86</td>\n",
              "      <td>10.373491</td>\n",
              "      <td>11.63</td>\n",
              "      <td>682</td>\n",
              "      <td>4710.000000</td>\n",
              "      <td>3511</td>\n",
              "      <td>25.6</td>\n",
              "      <td>1</td>\n",
              "      <td>0</td>\n",
              "      <td>0</td>\n",
              "      <td>0</td>\n",
              "    </tr>\n",
              "    <tr>\n",
              "      <th>3</th>\n",
              "      <td>1</td>\n",
              "      <td>debt_consolidation</td>\n",
              "      <td>0.1008</td>\n",
              "      <td>162.34</td>\n",
              "      <td>11.350407</td>\n",
              "      <td>8.10</td>\n",
              "      <td>712</td>\n",
              "      <td>2699.958333</td>\n",
              "      <td>33667</td>\n",
              "      <td>73.2</td>\n",
              "      <td>1</td>\n",
              "      <td>0</td>\n",
              "      <td>0</td>\n",
              "      <td>0</td>\n",
              "    </tr>\n",
              "    <tr>\n",
              "      <th>4</th>\n",
              "      <td>1</td>\n",
              "      <td>credit_card</td>\n",
              "      <td>0.1426</td>\n",
              "      <td>102.92</td>\n",
              "      <td>11.299732</td>\n",
              "      <td>14.97</td>\n",
              "      <td>667</td>\n",
              "      <td>4066.000000</td>\n",
              "      <td>4740</td>\n",
              "      <td>39.5</td>\n",
              "      <td>0</td>\n",
              "      <td>1</td>\n",
              "      <td>0</td>\n",
              "      <td>0</td>\n",
              "    </tr>\n",
              "    <tr>\n",
              "      <th>...</th>\n",
              "      <td>...</td>\n",
              "      <td>...</td>\n",
              "      <td>...</td>\n",
              "      <td>...</td>\n",
              "      <td>...</td>\n",
              "      <td>...</td>\n",
              "      <td>...</td>\n",
              "      <td>...</td>\n",
              "      <td>...</td>\n",
              "      <td>...</td>\n",
              "      <td>...</td>\n",
              "      <td>...</td>\n",
              "      <td>...</td>\n",
              "      <td>...</td>\n",
              "    </tr>\n",
              "    <tr>\n",
              "      <th>9573</th>\n",
              "      <td>0</td>\n",
              "      <td>all_other</td>\n",
              "      <td>0.1461</td>\n",
              "      <td>344.76</td>\n",
              "      <td>12.180755</td>\n",
              "      <td>10.39</td>\n",
              "      <td>672</td>\n",
              "      <td>10474.000000</td>\n",
              "      <td>215372</td>\n",
              "      <td>82.1</td>\n",
              "      <td>2</td>\n",
              "      <td>0</td>\n",
              "      <td>0</td>\n",
              "      <td>1</td>\n",
              "    </tr>\n",
              "    <tr>\n",
              "      <th>9574</th>\n",
              "      <td>0</td>\n",
              "      <td>all_other</td>\n",
              "      <td>0.1253</td>\n",
              "      <td>257.70</td>\n",
              "      <td>11.141862</td>\n",
              "      <td>0.21</td>\n",
              "      <td>722</td>\n",
              "      <td>4380.000000</td>\n",
              "      <td>184</td>\n",
              "      <td>1.1</td>\n",
              "      <td>5</td>\n",
              "      <td>0</td>\n",
              "      <td>0</td>\n",
              "      <td>1</td>\n",
              "    </tr>\n",
              "    <tr>\n",
              "      <th>9575</th>\n",
              "      <td>0</td>\n",
              "      <td>debt_consolidation</td>\n",
              "      <td>0.1071</td>\n",
              "      <td>97.81</td>\n",
              "      <td>10.596635</td>\n",
              "      <td>13.09</td>\n",
              "      <td>687</td>\n",
              "      <td>3450.041667</td>\n",
              "      <td>10036</td>\n",
              "      <td>82.9</td>\n",
              "      <td>8</td>\n",
              "      <td>0</td>\n",
              "      <td>0</td>\n",
              "      <td>1</td>\n",
              "    </tr>\n",
              "    <tr>\n",
              "      <th>9576</th>\n",
              "      <td>0</td>\n",
              "      <td>home_improvement</td>\n",
              "      <td>0.1600</td>\n",
              "      <td>351.58</td>\n",
              "      <td>10.819778</td>\n",
              "      <td>19.18</td>\n",
              "      <td>692</td>\n",
              "      <td>1800.000000</td>\n",
              "      <td>0</td>\n",
              "      <td>3.2</td>\n",
              "      <td>5</td>\n",
              "      <td>0</td>\n",
              "      <td>0</td>\n",
              "      <td>1</td>\n",
              "    </tr>\n",
              "    <tr>\n",
              "      <th>9577</th>\n",
              "      <td>0</td>\n",
              "      <td>debt_consolidation</td>\n",
              "      <td>0.1392</td>\n",
              "      <td>853.43</td>\n",
              "      <td>11.264464</td>\n",
              "      <td>16.28</td>\n",
              "      <td>732</td>\n",
              "      <td>4740.000000</td>\n",
              "      <td>37879</td>\n",
              "      <td>57.0</td>\n",
              "      <td>6</td>\n",
              "      <td>0</td>\n",
              "      <td>0</td>\n",
              "      <td>1</td>\n",
              "    </tr>\n",
              "  </tbody>\n",
              "</table>\n",
              "<p>9578 rows × 14 columns</p>\n",
              "</div>\n",
              "      <button class=\"colab-df-convert\" onclick=\"convertToInteractive('df-7ba58af3-1fd5-470f-bbee-02bd9e46d1fe')\"\n",
              "              title=\"Convert this dataframe to an interactive table.\"\n",
              "              style=\"display:none;\">\n",
              "        \n",
              "  <svg xmlns=\"http://www.w3.org/2000/svg\" height=\"24px\"viewBox=\"0 0 24 24\"\n",
              "       width=\"24px\">\n",
              "    <path d=\"M0 0h24v24H0V0z\" fill=\"none\"/>\n",
              "    <path d=\"M18.56 5.44l.94 2.06.94-2.06 2.06-.94-2.06-.94-.94-2.06-.94 2.06-2.06.94zm-11 1L8.5 8.5l.94-2.06 2.06-.94-2.06-.94L8.5 2.5l-.94 2.06-2.06.94zm10 10l.94 2.06.94-2.06 2.06-.94-2.06-.94-.94-2.06-.94 2.06-2.06.94z\"/><path d=\"M17.41 7.96l-1.37-1.37c-.4-.4-.92-.59-1.43-.59-.52 0-1.04.2-1.43.59L10.3 9.45l-7.72 7.72c-.78.78-.78 2.05 0 2.83L4 21.41c.39.39.9.59 1.41.59.51 0 1.02-.2 1.41-.59l7.78-7.78 2.81-2.81c.8-.78.8-2.07 0-2.86zM5.41 20L4 18.59l7.72-7.72 1.47 1.35L5.41 20z\"/>\n",
              "  </svg>\n",
              "      </button>\n",
              "      \n",
              "  <style>\n",
              "    .colab-df-container {\n",
              "      display:flex;\n",
              "      flex-wrap:wrap;\n",
              "      gap: 12px;\n",
              "    }\n",
              "\n",
              "    .colab-df-convert {\n",
              "      background-color: #E8F0FE;\n",
              "      border: none;\n",
              "      border-radius: 50%;\n",
              "      cursor: pointer;\n",
              "      display: none;\n",
              "      fill: #1967D2;\n",
              "      height: 32px;\n",
              "      padding: 0 0 0 0;\n",
              "      width: 32px;\n",
              "    }\n",
              "\n",
              "    .colab-df-convert:hover {\n",
              "      background-color: #E2EBFA;\n",
              "      box-shadow: 0px 1px 2px rgba(60, 64, 67, 0.3), 0px 1px 3px 1px rgba(60, 64, 67, 0.15);\n",
              "      fill: #174EA6;\n",
              "    }\n",
              "\n",
              "    [theme=dark] .colab-df-convert {\n",
              "      background-color: #3B4455;\n",
              "      fill: #D2E3FC;\n",
              "    }\n",
              "\n",
              "    [theme=dark] .colab-df-convert:hover {\n",
              "      background-color: #434B5C;\n",
              "      box-shadow: 0px 1px 3px 1px rgba(0, 0, 0, 0.15);\n",
              "      filter: drop-shadow(0px 1px 2px rgba(0, 0, 0, 0.3));\n",
              "      fill: #FFFFFF;\n",
              "    }\n",
              "  </style>\n",
              "\n",
              "      <script>\n",
              "        const buttonEl =\n",
              "          document.querySelector('#df-7ba58af3-1fd5-470f-bbee-02bd9e46d1fe button.colab-df-convert');\n",
              "        buttonEl.style.display =\n",
              "          google.colab.kernel.accessAllowed ? 'block' : 'none';\n",
              "\n",
              "        async function convertToInteractive(key) {\n",
              "          const element = document.querySelector('#df-7ba58af3-1fd5-470f-bbee-02bd9e46d1fe');\n",
              "          const dataTable =\n",
              "            await google.colab.kernel.invokeFunction('convertToInteractive',\n",
              "                                                     [key], {});\n",
              "          if (!dataTable) return;\n",
              "\n",
              "          const docLinkHtml = 'Like what you see? Visit the ' +\n",
              "            '<a target=\"_blank\" href=https://colab.research.google.com/notebooks/data_table.ipynb>data table notebook</a>'\n",
              "            + ' to learn more about interactive tables.';\n",
              "          element.innerHTML = '';\n",
              "          dataTable['output_type'] = 'display_data';\n",
              "          await google.colab.output.renderOutput(dataTable, element);\n",
              "          const docLink = document.createElement('div');\n",
              "          docLink.innerHTML = docLinkHtml;\n",
              "          element.appendChild(docLink);\n",
              "        }\n",
              "      </script>\n",
              "    </div>\n",
              "  </div>\n",
              "  "
            ]
          },
          "metadata": {},
          "execution_count": 2
        }
      ],
      "source": [
        "url = 'https://raw.githubusercontent.com/FIngul98/Loan_Dataset/main/loan_data.csv'\n",
        "loan_data= pd.read_csv(url)\n",
        "loan_data"
      ]
    },
    {
      "cell_type": "code",
      "source": [
        "#We are dropping the column \"purpose\" due to issues in the on hot encoding code and errors of infinity values.\n",
        "\n",
        "loan_data.drop(columns='purpose',axis=1, inplace=True)\n"
      ],
      "metadata": {
        "id": "aqCWAzegRbzk"
      },
      "execution_count": 3,
      "outputs": []
    },
    {
      "cell_type": "code",
      "source": [
        "#Also it was easier for us to work with the features in the '_' format\n",
        "loan_data.columns = [c.replace('.', '_') for c in loan_data.columns]"
      ],
      "metadata": {
        "id": "-Z5Pq1l7YDQH"
      },
      "execution_count": 4,
      "outputs": []
    },
    {
      "cell_type": "code",
      "execution_count": 5,
      "metadata": {
        "colab": {
          "base_uri": "https://localhost:8080/",
          "height": 419
        },
        "id": "R0ODdmgw7CnP",
        "outputId": "8aeb3ba1-30cd-429e-a275-75d589581a42"
      },
      "outputs": [
        {
          "output_type": "execute_result",
          "data": {
            "text/plain": [
              "      credit_policy  int_rate  installment  log_annual_inc    dti  fico  \\\n",
              "0                 1    0.1189       829.10       11.350407  19.48   737   \n",
              "1                 1    0.1071       228.22       11.082143  14.29   707   \n",
              "2                 1    0.1357       366.86       10.373491  11.63   682   \n",
              "3                 1    0.1008       162.34       11.350407   8.10   712   \n",
              "4                 1    0.1426       102.92       11.299732  14.97   667   \n",
              "...             ...       ...          ...             ...    ...   ...   \n",
              "9573              0    0.1461       344.76       12.180755  10.39   672   \n",
              "9574              0    0.1253       257.70       11.141862   0.21   722   \n",
              "9575              0    0.1071        97.81       10.596635  13.09   687   \n",
              "9576              0    0.1600       351.58       10.819778  19.18   692   \n",
              "9577              0    0.1392       853.43       11.264464  16.28   732   \n",
              "\n",
              "      days_with_cr_line  revol_bal  revol_util  inq_last_6mths  delinq_2yrs  \\\n",
              "0           5639.958333      28854        52.1               0            0   \n",
              "1           2760.000000      33623        76.7               0            0   \n",
              "2           4710.000000       3511        25.6               1            0   \n",
              "3           2699.958333      33667        73.2               1            0   \n",
              "4           4066.000000       4740        39.5               0            1   \n",
              "...                 ...        ...         ...             ...          ...   \n",
              "9573       10474.000000     215372        82.1               2            0   \n",
              "9574        4380.000000        184         1.1               5            0   \n",
              "9575        3450.041667      10036        82.9               8            0   \n",
              "9576        1800.000000          0         3.2               5            0   \n",
              "9577        4740.000000      37879        57.0               6            0   \n",
              "\n",
              "      pub_rec  \n",
              "0           0  \n",
              "1           0  \n",
              "2           0  \n",
              "3           0  \n",
              "4           0  \n",
              "...       ...  \n",
              "9573        0  \n",
              "9574        0  \n",
              "9575        0  \n",
              "9576        0  \n",
              "9577        0  \n",
              "\n",
              "[9578 rows x 12 columns]"
            ],
            "text/html": [
              "\n",
              "  <div id=\"df-453746d7-7762-487e-9044-896130695726\">\n",
              "    <div class=\"colab-df-container\">\n",
              "      <div>\n",
              "<style scoped>\n",
              "    .dataframe tbody tr th:only-of-type {\n",
              "        vertical-align: middle;\n",
              "    }\n",
              "\n",
              "    .dataframe tbody tr th {\n",
              "        vertical-align: top;\n",
              "    }\n",
              "\n",
              "    .dataframe thead th {\n",
              "        text-align: right;\n",
              "    }\n",
              "</style>\n",
              "<table border=\"1\" class=\"dataframe\">\n",
              "  <thead>\n",
              "    <tr style=\"text-align: right;\">\n",
              "      <th></th>\n",
              "      <th>credit_policy</th>\n",
              "      <th>int_rate</th>\n",
              "      <th>installment</th>\n",
              "      <th>log_annual_inc</th>\n",
              "      <th>dti</th>\n",
              "      <th>fico</th>\n",
              "      <th>days_with_cr_line</th>\n",
              "      <th>revol_bal</th>\n",
              "      <th>revol_util</th>\n",
              "      <th>inq_last_6mths</th>\n",
              "      <th>delinq_2yrs</th>\n",
              "      <th>pub_rec</th>\n",
              "    </tr>\n",
              "  </thead>\n",
              "  <tbody>\n",
              "    <tr>\n",
              "      <th>0</th>\n",
              "      <td>1</td>\n",
              "      <td>0.1189</td>\n",
              "      <td>829.10</td>\n",
              "      <td>11.350407</td>\n",
              "      <td>19.48</td>\n",
              "      <td>737</td>\n",
              "      <td>5639.958333</td>\n",
              "      <td>28854</td>\n",
              "      <td>52.1</td>\n",
              "      <td>0</td>\n",
              "      <td>0</td>\n",
              "      <td>0</td>\n",
              "    </tr>\n",
              "    <tr>\n",
              "      <th>1</th>\n",
              "      <td>1</td>\n",
              "      <td>0.1071</td>\n",
              "      <td>228.22</td>\n",
              "      <td>11.082143</td>\n",
              "      <td>14.29</td>\n",
              "      <td>707</td>\n",
              "      <td>2760.000000</td>\n",
              "      <td>33623</td>\n",
              "      <td>76.7</td>\n",
              "      <td>0</td>\n",
              "      <td>0</td>\n",
              "      <td>0</td>\n",
              "    </tr>\n",
              "    <tr>\n",
              "      <th>2</th>\n",
              "      <td>1</td>\n",
              "      <td>0.1357</td>\n",
              "      <td>366.86</td>\n",
              "      <td>10.373491</td>\n",
              "      <td>11.63</td>\n",
              "      <td>682</td>\n",
              "      <td>4710.000000</td>\n",
              "      <td>3511</td>\n",
              "      <td>25.6</td>\n",
              "      <td>1</td>\n",
              "      <td>0</td>\n",
              "      <td>0</td>\n",
              "    </tr>\n",
              "    <tr>\n",
              "      <th>3</th>\n",
              "      <td>1</td>\n",
              "      <td>0.1008</td>\n",
              "      <td>162.34</td>\n",
              "      <td>11.350407</td>\n",
              "      <td>8.10</td>\n",
              "      <td>712</td>\n",
              "      <td>2699.958333</td>\n",
              "      <td>33667</td>\n",
              "      <td>73.2</td>\n",
              "      <td>1</td>\n",
              "      <td>0</td>\n",
              "      <td>0</td>\n",
              "    </tr>\n",
              "    <tr>\n",
              "      <th>4</th>\n",
              "      <td>1</td>\n",
              "      <td>0.1426</td>\n",
              "      <td>102.92</td>\n",
              "      <td>11.299732</td>\n",
              "      <td>14.97</td>\n",
              "      <td>667</td>\n",
              "      <td>4066.000000</td>\n",
              "      <td>4740</td>\n",
              "      <td>39.5</td>\n",
              "      <td>0</td>\n",
              "      <td>1</td>\n",
              "      <td>0</td>\n",
              "    </tr>\n",
              "    <tr>\n",
              "      <th>...</th>\n",
              "      <td>...</td>\n",
              "      <td>...</td>\n",
              "      <td>...</td>\n",
              "      <td>...</td>\n",
              "      <td>...</td>\n",
              "      <td>...</td>\n",
              "      <td>...</td>\n",
              "      <td>...</td>\n",
              "      <td>...</td>\n",
              "      <td>...</td>\n",
              "      <td>...</td>\n",
              "      <td>...</td>\n",
              "    </tr>\n",
              "    <tr>\n",
              "      <th>9573</th>\n",
              "      <td>0</td>\n",
              "      <td>0.1461</td>\n",
              "      <td>344.76</td>\n",
              "      <td>12.180755</td>\n",
              "      <td>10.39</td>\n",
              "      <td>672</td>\n",
              "      <td>10474.000000</td>\n",
              "      <td>215372</td>\n",
              "      <td>82.1</td>\n",
              "      <td>2</td>\n",
              "      <td>0</td>\n",
              "      <td>0</td>\n",
              "    </tr>\n",
              "    <tr>\n",
              "      <th>9574</th>\n",
              "      <td>0</td>\n",
              "      <td>0.1253</td>\n",
              "      <td>257.70</td>\n",
              "      <td>11.141862</td>\n",
              "      <td>0.21</td>\n",
              "      <td>722</td>\n",
              "      <td>4380.000000</td>\n",
              "      <td>184</td>\n",
              "      <td>1.1</td>\n",
              "      <td>5</td>\n",
              "      <td>0</td>\n",
              "      <td>0</td>\n",
              "    </tr>\n",
              "    <tr>\n",
              "      <th>9575</th>\n",
              "      <td>0</td>\n",
              "      <td>0.1071</td>\n",
              "      <td>97.81</td>\n",
              "      <td>10.596635</td>\n",
              "      <td>13.09</td>\n",
              "      <td>687</td>\n",
              "      <td>3450.041667</td>\n",
              "      <td>10036</td>\n",
              "      <td>82.9</td>\n",
              "      <td>8</td>\n",
              "      <td>0</td>\n",
              "      <td>0</td>\n",
              "    </tr>\n",
              "    <tr>\n",
              "      <th>9576</th>\n",
              "      <td>0</td>\n",
              "      <td>0.1600</td>\n",
              "      <td>351.58</td>\n",
              "      <td>10.819778</td>\n",
              "      <td>19.18</td>\n",
              "      <td>692</td>\n",
              "      <td>1800.000000</td>\n",
              "      <td>0</td>\n",
              "      <td>3.2</td>\n",
              "      <td>5</td>\n",
              "      <td>0</td>\n",
              "      <td>0</td>\n",
              "    </tr>\n",
              "    <tr>\n",
              "      <th>9577</th>\n",
              "      <td>0</td>\n",
              "      <td>0.1392</td>\n",
              "      <td>853.43</td>\n",
              "      <td>11.264464</td>\n",
              "      <td>16.28</td>\n",
              "      <td>732</td>\n",
              "      <td>4740.000000</td>\n",
              "      <td>37879</td>\n",
              "      <td>57.0</td>\n",
              "      <td>6</td>\n",
              "      <td>0</td>\n",
              "      <td>0</td>\n",
              "    </tr>\n",
              "  </tbody>\n",
              "</table>\n",
              "<p>9578 rows × 12 columns</p>\n",
              "</div>\n",
              "      <button class=\"colab-df-convert\" onclick=\"convertToInteractive('df-453746d7-7762-487e-9044-896130695726')\"\n",
              "              title=\"Convert this dataframe to an interactive table.\"\n",
              "              style=\"display:none;\">\n",
              "        \n",
              "  <svg xmlns=\"http://www.w3.org/2000/svg\" height=\"24px\"viewBox=\"0 0 24 24\"\n",
              "       width=\"24px\">\n",
              "    <path d=\"M0 0h24v24H0V0z\" fill=\"none\"/>\n",
              "    <path d=\"M18.56 5.44l.94 2.06.94-2.06 2.06-.94-2.06-.94-.94-2.06-.94 2.06-2.06.94zm-11 1L8.5 8.5l.94-2.06 2.06-.94-2.06-.94L8.5 2.5l-.94 2.06-2.06.94zm10 10l.94 2.06.94-2.06 2.06-.94-2.06-.94-.94-2.06-.94 2.06-2.06.94z\"/><path d=\"M17.41 7.96l-1.37-1.37c-.4-.4-.92-.59-1.43-.59-.52 0-1.04.2-1.43.59L10.3 9.45l-7.72 7.72c-.78.78-.78 2.05 0 2.83L4 21.41c.39.39.9.59 1.41.59.51 0 1.02-.2 1.41-.59l7.78-7.78 2.81-2.81c.8-.78.8-2.07 0-2.86zM5.41 20L4 18.59l7.72-7.72 1.47 1.35L5.41 20z\"/>\n",
              "  </svg>\n",
              "      </button>\n",
              "      \n",
              "  <style>\n",
              "    .colab-df-container {\n",
              "      display:flex;\n",
              "      flex-wrap:wrap;\n",
              "      gap: 12px;\n",
              "    }\n",
              "\n",
              "    .colab-df-convert {\n",
              "      background-color: #E8F0FE;\n",
              "      border: none;\n",
              "      border-radius: 50%;\n",
              "      cursor: pointer;\n",
              "      display: none;\n",
              "      fill: #1967D2;\n",
              "      height: 32px;\n",
              "      padding: 0 0 0 0;\n",
              "      width: 32px;\n",
              "    }\n",
              "\n",
              "    .colab-df-convert:hover {\n",
              "      background-color: #E2EBFA;\n",
              "      box-shadow: 0px 1px 2px rgba(60, 64, 67, 0.3), 0px 1px 3px 1px rgba(60, 64, 67, 0.15);\n",
              "      fill: #174EA6;\n",
              "    }\n",
              "\n",
              "    [theme=dark] .colab-df-convert {\n",
              "      background-color: #3B4455;\n",
              "      fill: #D2E3FC;\n",
              "    }\n",
              "\n",
              "    [theme=dark] .colab-df-convert:hover {\n",
              "      background-color: #434B5C;\n",
              "      box-shadow: 0px 1px 3px 1px rgba(0, 0, 0, 0.15);\n",
              "      filter: drop-shadow(0px 1px 2px rgba(0, 0, 0, 0.3));\n",
              "      fill: #FFFFFF;\n",
              "    }\n",
              "  </style>\n",
              "\n",
              "      <script>\n",
              "        const buttonEl =\n",
              "          document.querySelector('#df-453746d7-7762-487e-9044-896130695726 button.colab-df-convert');\n",
              "        buttonEl.style.display =\n",
              "          google.colab.kernel.accessAllowed ? 'block' : 'none';\n",
              "\n",
              "        async function convertToInteractive(key) {\n",
              "          const element = document.querySelector('#df-453746d7-7762-487e-9044-896130695726');\n",
              "          const dataTable =\n",
              "            await google.colab.kernel.invokeFunction('convertToInteractive',\n",
              "                                                     [key], {});\n",
              "          if (!dataTable) return;\n",
              "\n",
              "          const docLinkHtml = 'Like what you see? Visit the ' +\n",
              "            '<a target=\"_blank\" href=https://colab.research.google.com/notebooks/data_table.ipynb>data table notebook</a>'\n",
              "            + ' to learn more about interactive tables.';\n",
              "          element.innerHTML = '';\n",
              "          dataTable['output_type'] = 'display_data';\n",
              "          await google.colab.output.renderOutput(dataTable, element);\n",
              "          const docLink = document.createElement('div');\n",
              "          docLink.innerHTML = docLinkHtml;\n",
              "          element.appendChild(docLink);\n",
              "        }\n",
              "      </script>\n",
              "    </div>\n",
              "  </div>\n",
              "  "
            ]
          },
          "metadata": {},
          "execution_count": 5
        }
      ],
      "source": [
        "#Here we are preparing to split the data by defining our X features.\n",
        "X = loan_data.iloc[:,:-1]\n",
        "X"
      ]
    },
    {
      "cell_type": "code",
      "execution_count": 6,
      "metadata": {
        "id": "ngfcXdt97EF9",
        "colab": {
          "base_uri": "https://localhost:8080/"
        },
        "outputId": "92ebc634-dd50-42e7-cafa-a218d652b5d7"
      },
      "outputs": [
        {
          "output_type": "execute_result",
          "data": {
            "text/plain": [
              "0       0\n",
              "1       0\n",
              "2       0\n",
              "3       0\n",
              "4       0\n",
              "       ..\n",
              "9573    1\n",
              "9574    1\n",
              "9575    1\n",
              "9576    1\n",
              "9577    1\n",
              "Name: not_fully_paid, Length: 9578, dtype: int64"
            ]
          },
          "metadata": {},
          "execution_count": 6
        }
      ],
      "source": [
        "#Here we are preparing to split the data by defining our target value.\n",
        "y = loan_data['not_fully_paid']\n",
        "y"
      ]
    },
    {
      "cell_type": "code",
      "execution_count": 7,
      "metadata": {
        "id": "hXy_fe976tJ5"
      },
      "outputs": [],
      "source": [
        "#Tran_test split is done before exploratory data analysis\n",
        "X_train, X_test, y_train, y_test = train_test_split(X, y, random_state=42)"
      ]
    },
    {
      "cell_type": "code",
      "execution_count": 8,
      "metadata": {
        "id": "SjR5TGm-Bz1g"
      },
      "outputs": [],
      "source": [
        "# X_test data set is downloaded and set aside from the model for now\n",
        "X_test.to_csv('./X_test_data.csv')"
      ]
    },
    {
      "cell_type": "code",
      "source": [
        "# y_test data set is downloaded and set aside from the model for now\n",
        "y_test.to_csv('./y_test_data.csv')"
      ],
      "metadata": {
        "id": "s2Gr33rbloVn"
      },
      "execution_count": 9,
      "outputs": []
    },
    {
      "cell_type": "code",
      "source": [
        "#All our features appear to follow normal distribution except \"revol_bal.\" We have to feature engineer \"revol_bal\" in our next step.\n",
        "#Refer to Decision Tree model for visualization.\n",
        "loan_data['log_revol_bal'] = np.log(loan_data['revol_bal'])\n",
        "loan_data.drop(columns='revol_bal', axis=1, inplace=True)"
      ],
      "metadata": {
        "colab": {
          "base_uri": "https://localhost:8080/"
        },
        "id": "7B4sEv97Hamx",
        "outputId": "bd71370a-a63e-4e5c-a6f3-a471ce15523c"
      },
      "execution_count": 10,
      "outputs": [
        {
          "output_type": "stream",
          "name": "stderr",
          "text": [
            "/usr/local/lib/python3.7/dist-packages/pandas/core/arraylike.py:364: RuntimeWarning: divide by zero encountered in log\n",
            "  result = getattr(ufunc, method)(*inputs, **kwargs)\n"
          ]
        }
      ]
    },
    {
      "cell_type": "code",
      "source": [
        "#We create loan_ros for the after over-sampling data.\n",
        "loan_ros = loan_data[['credit_policy', 'int_rate', 'installment',\t'log_annual_inc', 'dti', 'fico', 'days_with_cr_line',\t'revol_util',\t'inq_last_6mths',\t'delinq_2yrs', 'pub_rec', 'log_revol_bal', 'not_fully_paid']]\n",
        "print(loan_ros['not_fully_paid'].value_counts(), \"\\n\")"
      ],
      "metadata": {
        "colab": {
          "base_uri": "https://localhost:8080/"
        },
        "id": "8-0gGqfYHXuI",
        "outputId": "f7aac40a-f4af-4b73-f040-8a6ba48efb19"
      },
      "execution_count": 11,
      "outputs": [
        {
          "output_type": "stream",
          "name": "stdout",
          "text": [
            "0    8045\n",
            "1    1533\n",
            "Name: not_fully_paid, dtype: int64 \n",
            "\n"
          ]
        }
      ]
    },
    {
      "cell_type": "code",
      "source": [
        "from imblearn.over_sampling import RandomOverSampler"
      ],
      "metadata": {
        "id": "DCbh-EsxIDvA"
      },
      "execution_count": 12,
      "outputs": []
    },
    {
      "cell_type": "code",
      "source": [
        "# over-sampling. We define X and y for loan_ros using the iloc function.\n",
        "X = loan_ros.iloc[:,:-1]\n",
        "y = loan_ros.iloc[:,-1]\n",
        "\n",
        "ros = RandomOverSampler(random_state=42)\n",
        "x_ros, y_ros = ros.fit_resample(X, y)\n",
        "\n",
        "loan_ros = x_ros\n",
        "loan_ros['not_fully_paid'] = y_ros\n",
        "\n",
        "\n",
        "#Now we want to visualize the after and before over-sampling data.\n",
        "fig, ax = plt.subplots(1,2, figsize=(15,5))\n",
        "\n",
        "sns.countplot('not_fully_paid', data=loan_data, ax=ax[0], palette=\"vlag\")\n",
        "ax[0].tick_params(labelrotation=90)\n",
        "ax[0].set_title(\"Data before over-sampling\")\n",
        "\n",
        "sns.countplot('not_fully_paid', data=loan_ros, ax=ax[1], palette=\"vlag\")\n",
        "ax[1].tick_params(labelrotation=90)\n",
        "ax[1].set_title(\"Data after over-sampling\")\n",
        "\n",
        "plt.show()\n",
        "\n",
        "print(\"Data before over-sampling\")\n",
        "print(loan_data['not_fully_paid'].value_counts(), \"\\n\")\n",
        "\n",
        "print(\"Data after over-sampling\")\n",
        "print(loan_ros['not_fully_paid'].value_counts())"
      ],
      "metadata": {
        "colab": {
          "base_uri": "https://localhost:8080/",
          "height": 588
        },
        "id": "gxFx0BmWID39",
        "outputId": "9609d7fe-1a38-465e-f6cd-6d596b090189"
      },
      "execution_count": 13,
      "outputs": [
        {
          "output_type": "stream",
          "name": "stderr",
          "text": [
            "/usr/local/lib/python3.7/dist-packages/seaborn/_decorators.py:43: FutureWarning: Pass the following variable as a keyword arg: x. From version 0.12, the only valid positional argument will be `data`, and passing other arguments without an explicit keyword will result in an error or misinterpretation.\n",
            "  FutureWarning\n",
            "/usr/local/lib/python3.7/dist-packages/seaborn/_decorators.py:43: FutureWarning: Pass the following variable as a keyword arg: x. From version 0.12, the only valid positional argument will be `data`, and passing other arguments without an explicit keyword will result in an error or misinterpretation.\n",
            "  FutureWarning\n"
          ]
        },
        {
          "output_type": "display_data",
          "data": {
            "text/plain": [
              "<Figure size 1080x360 with 2 Axes>"
            ],
            "image/png": "[encoded data removed]"
          },
          "metadata": {
            "needs_background": "light"
          }
        },
        {
          "output_type": "stream",
          "name": "stdout",
          "text": [
            "Data before over-sampling\n",
            "0    8045\n",
            "1    1533\n",
            "Name: not_fully_paid, dtype: int64 \n",
            "\n",
            "Data after over-sampling\n",
            "0    8045\n",
            "1    8045\n",
            "Name: not_fully_paid, dtype: int64\n"
          ]
        }
      ]
    },
    {
      "cell_type": "code",
      "source": [
        "#RandomOverSampler corrects the imbalance between 0's and 1's\n",
        "loan_ros.value_counts('not_fully_paid')"
      ],
      "metadata": {
        "colab": {
          "base_uri": "https://localhost:8080/"
        },
        "id": "o2blVbuWPpF1",
        "outputId": "84d0ba1e-1280-407f-f449-22a732897f7d"
      },
      "execution_count": 14,
      "outputs": [
        {
          "output_type": "execute_result",
          "data": {
            "text/plain": [
              "not_fully_paid\n",
              "0    8045\n",
              "1    8045\n",
              "dtype: int64"
            ]
          },
          "metadata": {},
          "execution_count": 14
        }
      ]
    },
    {
      "cell_type": "code",
      "source": [
        "#Specifying what type of values our data set includes. This will make our fit and the RFE model easier\n",
        "types = loan_data.select_dtypes(['int64', 'float64', 'bool']).columns"
      ],
      "metadata": {
        "id": "p0pQBSD0GfJl"
      },
      "execution_count": 15,
      "outputs": []
    },
    {
      "cell_type": "code",
      "source": [
        "#Importing our test data set\n",
        "X_test = pd.read_csv('/content/X_test_data.csv')"
      ],
      "metadata": {
        "id": "_6gQHGBFIoCg"
      },
      "execution_count": 16,
      "outputs": []
    },
    {
      "cell_type": "code",
      "source": [
        "#Removing the column \"Unnamed\"\n",
        "X_test.drop(columns='Unnamed: 0', axis=1, inplace=True)\n"
      ],
      "metadata": {
        "id": "PPY6WhUzI_TW"
      },
      "execution_count": 17,
      "outputs": []
    },
    {
      "cell_type": "code",
      "source": [
        "#Importing our test data set\n",
        "y_test = pd.read_csv('/content/y_test_data.csv')"
      ],
      "metadata": {
        "id": "NGuhAQ8uvobe"
      },
      "execution_count": 18,
      "outputs": []
    },
    {
      "cell_type": "code",
      "source": [
        "#Removing the column \"Unnamed\"\n",
        "y_test.drop(columns='Unnamed: 0', axis=1, inplace=True)"
      ],
      "metadata": {
        "id": "vQz-awJbSpTg"
      },
      "execution_count": 19,
      "outputs": []
    },
    {
      "cell_type": "code",
      "source": [
        "#Modifying the scale of feature \"revol_bal\" to a log scale for it to follow normal distribution.\n",
        "X_test['log_revol_bal'] = np.log(X_test['revol_bal'])\n",
        "X_test.drop(columns='revol_bal', axis=1, inplace=True)"
      ],
      "metadata": {
        "colab": {
          "base_uri": "https://localhost:8080/"
        },
        "id": "ZQcH-jA-Oj6R",
        "outputId": "d43c1c47-6043-4c13-9c7d-733cdda49572"
      },
      "execution_count": 20,
      "outputs": [
        {
          "output_type": "stream",
          "name": "stderr",
          "text": [
            "/usr/local/lib/python3.7/dist-packages/pandas/core/arraylike.py:364: RuntimeWarning: divide by zero encountered in log\n",
            "  result = getattr(ufunc, method)(*inputs, **kwargs)\n"
          ]
        }
      ]
    },
    {
      "cell_type": "code",
      "source": [
        "#Importing RFE model\n",
        "from sklearn.feature_selection import RFE"
      ],
      "metadata": {
        "id": "Cf5zjd_tRbiF"
      },
      "execution_count": 21,
      "outputs": []
    },
    {
      "cell_type": "code",
      "source": [
        "#Here we are defining our model and reiterating the X and y features.\n",
        "loan_model = loan_ros\n",
        "X = loan_model.iloc[:,:-1].values\n",
        "y = loan_model.iloc[:,-1].values"
      ],
      "metadata": {
        "id": "DS2oEOCuQjPl"
      },
      "execution_count": 22,
      "outputs": []
    },
    {
      "cell_type": "code",
      "source": [
        "#When we were feature engineering the log_revol_bal would give us infinity values.\n",
        "#The solution is to substitute with standardized value using the formula below\n",
        "X_1 = np.nan_to_num(X, posinf=True, neginf=True)"
      ],
      "metadata": {
        "id": "BHI2s_bkRkel"
      },
      "execution_count": 23,
      "outputs": []
    },
    {
      "cell_type": "code",
      "source": [
        "X_test = np.nan_to_num(X_test,posinf=True, neginf=True)"
      ],
      "metadata": {
        "id": "X6IhlBsHTEPI"
      },
      "execution_count": 24,
      "outputs": []
    },
    {
      "cell_type": "code",
      "source": [
        "#Checking to see if we are still getting infinity values, which we are not!\n",
        "mean = np.mean(X_test)\n",
        "median = np.median(X_test)\n",
        "max = np.max(X_test)\n",
        " \n",
        "#print(\"Array =\", X_test)\n",
        "print(\"Mean =\", mean)\n",
        "print(\"Median =\", median)\n",
        "print(\"Max =\", max)"
      ],
      "metadata": {
        "colab": {
          "base_uri": "https://localhost:8080/"
        },
        "id": "Tlj3OtSlRm9v",
        "outputId": "498220fb-4d87-4847-bd3d-e12e7356dffa"
      },
      "execution_count": 25,
      "outputs": [
        {
          "output_type": "stream",
          "name": "stdout",
          "text": [
            "Mean = 471.2737735367681\n",
            "Median = 9.2054283225658\n",
            "Max = 16350.0\n"
          ]
        }
      ]
    },
    {
      "cell_type": "code",
      "source": [
        "#Here we are splitting the balanced data set to train the model on the new trained data set\n",
        "#Further, we do not want to train the model on the new test set so we keep the old\n",
        "X_train, X_test2, y_train, y_test2 = train_test_split(X_1, y, random_state=42)"
      ],
      "metadata": {
        "id": "Wh27LHpdQkor"
      },
      "execution_count": 26,
      "outputs": []
    },
    {
      "cell_type": "code",
      "execution_count": 27,
      "metadata": {
        "colab": {
          "base_uri": "https://localhost:8080/"
        },
        "id": "BXlIU72_VDhl",
        "outputId": "20c236fb-9530-49d6-9c02-02e24e2bff53"
      },
      "outputs": [
        {
          "output_type": "stream",
          "name": "stdout",
          "text": [
            "Test score: 0.802  number of features: 1\n",
            "Test score: 0.949  number of features: 2\n",
            "Test score: 0.970  number of features: 3\n",
            "Test score: 0.975  number of features: 4\n",
            "Test score: 0.980  number of features: 5\n",
            "Test score: 0.985  number of features: 6\n",
            "Test score: 0.987  number of features: 7\n",
            "Test score: 0.984  number of features: 8\n",
            "Test score: 0.983  number of features: 9\n",
            "Test score: 0.985  number of features: 10\n",
            "Test score: 0.986  number of features: 11\n",
            "Test score: 0.984  number of features: 12\n"
          ]
        }
      ],
      "source": [
        "for i in range(1,13):\n",
        "\n",
        "  select = RFE(RandomForestClassifier(n_estimators=100, random_state=42), n_features_to_select=i)\n",
        "\n",
        "  select.fit(X_train, y_train)\n",
        "\n",
        "  mask = select.get_support()\n",
        "\n",
        "  X_train_rfe = select.transform(X_train)\n",
        "  X_test_rfe = select.transform(X_test)\n",
        "\n",
        "  score = RandomForestClassifier().fit(X_train_rfe, y_train).score(X_test_rfe, y_test)\n",
        "\n",
        "  print(\"Test score: {:.3f}\".format(score), \" number of features: {}\".format(i))\n",
        "  #Here we are testing the number of features for our model to find the optimal combination."
      ]
    },
    {
      "cell_type": "code",
      "execution_count": 28,
      "metadata": {
        "colab": {
          "base_uri": "https://localhost:8080/",
          "height": 298
        },
        "id": "srQZLjhMZwuc",
        "outputId": "31622b9a-1124-4b10-8ce2-d8f725a7b32c"
      },
      "outputs": [
        {
          "output_type": "stream",
          "name": "stdout",
          "text": [
            "Test score: 0.984  number of features: 8\n"
          ]
        },
        {
          "output_type": "display_data",
          "data": {
            "text/plain": [
              "                     0         1            2               3     4     5   \\\n",
              "features  credit_policy  int_rate  installment  log_annual_inc   dti  fico   \n",
              "select            False      True         True            True  True  True   \n",
              "\n",
              "                         6           7               8            9        10  \\\n",
              "features  days_with_cr_line  revol_util  inq_last_6mths  delinq_2yrs  pub_rec   \n",
              "select                 True        True           False        False    False   \n",
              "\n",
              "                      11  \n",
              "features  not_fully_paid  \n",
              "select              True  "
            ],
            "text/html": [
              "\n",
              "  <div id=\"df-06796f97-27da-42b9-b2d0-7a13295ee546\">\n",
              "    <div class=\"colab-df-container\">\n",
              "      <div>\n",
              "<style scoped>\n",
              "    .dataframe tbody tr th:only-of-type {\n",
              "        vertical-align: middle;\n",
              "    }\n",
              "\n",
              "    .dataframe tbody tr th {\n",
              "        vertical-align: top;\n",
              "    }\n",
              "\n",
              "    .dataframe thead th {\n",
              "        text-align: right;\n",
              "    }\n",
              "</style>\n",
              "<table border=\"1\" class=\"dataframe\">\n",
              "  <thead>\n",
              "    <tr style=\"text-align: right;\">\n",
              "      <th></th>\n",
              "      <th>0</th>\n",
              "      <th>1</th>\n",
              "      <th>2</th>\n",
              "      <th>3</th>\n",
              "      <th>4</th>\n",
              "      <th>5</th>\n",
              "      <th>6</th>\n",
              "      <th>7</th>\n",
              "      <th>8</th>\n",
              "      <th>9</th>\n",
              "      <th>10</th>\n",
              "      <th>11</th>\n",
              "    </tr>\n",
              "  </thead>\n",
              "  <tbody>\n",
              "    <tr>\n",
              "      <th>features</th>\n",
              "      <td>credit_policy</td>\n",
              "      <td>int_rate</td>\n",
              "      <td>installment</td>\n",
              "      <td>log_annual_inc</td>\n",
              "      <td>dti</td>\n",
              "      <td>fico</td>\n",
              "      <td>days_with_cr_line</td>\n",
              "      <td>revol_util</td>\n",
              "      <td>inq_last_6mths</td>\n",
              "      <td>delinq_2yrs</td>\n",
              "      <td>pub_rec</td>\n",
              "      <td>not_fully_paid</td>\n",
              "    </tr>\n",
              "    <tr>\n",
              "      <th>select</th>\n",
              "      <td>False</td>\n",
              "      <td>True</td>\n",
              "      <td>True</td>\n",
              "      <td>True</td>\n",
              "      <td>True</td>\n",
              "      <td>True</td>\n",
              "      <td>True</td>\n",
              "      <td>True</td>\n",
              "      <td>False</td>\n",
              "      <td>False</td>\n",
              "      <td>False</td>\n",
              "      <td>True</td>\n",
              "    </tr>\n",
              "  </tbody>\n",
              "</table>\n",
              "</div>\n",
              "      <button class=\"colab-df-convert\" onclick=\"convertToInteractive('df-06796f97-27da-42b9-b2d0-7a13295ee546')\"\n",
              "              title=\"Convert this dataframe to an interactive table.\"\n",
              "              style=\"display:none;\">\n",
              "        \n",
              "  <svg xmlns=\"http://www.w3.org/2000/svg\" height=\"24px\"viewBox=\"0 0 24 24\"\n",
              "       width=\"24px\">\n",
              "    <path d=\"M0 0h24v24H0V0z\" fill=\"none\"/>\n",
              "    <path d=\"M18.56 5.44l.94 2.06.94-2.06 2.06-.94-2.06-.94-.94-2.06-.94 2.06-2.06.94zm-11 1L8.5 8.5l.94-2.06 2.06-.94-2.06-.94L8.5 2.5l-.94 2.06-2.06.94zm10 10l.94 2.06.94-2.06 2.06-.94-2.06-.94-.94-2.06-.94 2.06-2.06.94z\"/><path d=\"M17.41 7.96l-1.37-1.37c-.4-.4-.92-.59-1.43-.59-.52 0-1.04.2-1.43.59L10.3 9.45l-7.72 7.72c-.78.78-.78 2.05 0 2.83L4 21.41c.39.39.9.59 1.41.59.51 0 1.02-.2 1.41-.59l7.78-7.78 2.81-2.81c.8-.78.8-2.07 0-2.86zM5.41 20L4 18.59l7.72-7.72 1.47 1.35L5.41 20z\"/>\n",
              "  </svg>\n",
              "      </button>\n",
              "      \n",
              "  <style>\n",
              "    .colab-df-container {\n",
              "      display:flex;\n",
              "      flex-wrap:wrap;\n",
              "      gap: 12px;\n",
              "    }\n",
              "\n",
              "    .colab-df-convert {\n",
              "      background-color: #E8F0FE;\n",
              "      border: none;\n",
              "      border-radius: 50%;\n",
              "      cursor: pointer;\n",
              "      display: none;\n",
              "      fill: #1967D2;\n",
              "      height: 32px;\n",
              "      padding: 0 0 0 0;\n",
              "      width: 32px;\n",
              "    }\n",
              "\n",
              "    .colab-df-convert:hover {\n",
              "      background-color: #E2EBFA;\n",
              "      box-shadow: 0px 1px 2px rgba(60, 64, 67, 0.3), 0px 1px 3px 1px rgba(60, 64, 67, 0.15);\n",
              "      fill: #174EA6;\n",
              "    }\n",
              "\n",
              "    [theme=dark] .colab-df-convert {\n",
              "      background-color: #3B4455;\n",
              "      fill: #D2E3FC;\n",
              "    }\n",
              "\n",
              "    [theme=dark] .colab-df-convert:hover {\n",
              "      background-color: #434B5C;\n",
              "      box-shadow: 0px 1px 3px 1px rgba(0, 0, 0, 0.15);\n",
              "      filter: drop-shadow(0px 1px 2px rgba(0, 0, 0, 0.3));\n",
              "      fill: #FFFFFF;\n",
              "    }\n",
              "  </style>\n",
              "\n",
              "      <script>\n",
              "        const buttonEl =\n",
              "          document.querySelector('#df-06796f97-27da-42b9-b2d0-7a13295ee546 button.colab-df-convert');\n",
              "        buttonEl.style.display =\n",
              "          google.colab.kernel.accessAllowed ? 'block' : 'none';\n",
              "\n",
              "        async function convertToInteractive(key) {\n",
              "          const element = document.querySelector('#df-06796f97-27da-42b9-b2d0-7a13295ee546');\n",
              "          const dataTable =\n",
              "            await google.colab.kernel.invokeFunction('convertToInteractive',\n",
              "                                                     [key], {});\n",
              "          if (!dataTable) return;\n",
              "\n",
              "          const docLinkHtml = 'Like what you see? Visit the ' +\n",
              "            '<a target=\"_blank\" href=https://colab.research.google.com/notebooks/data_table.ipynb>data table notebook</a>'\n",
              "            + ' to learn more about interactive tables.';\n",
              "          element.innerHTML = '';\n",
              "          dataTable['output_type'] = 'display_data';\n",
              "          await google.colab.output.renderOutput(dataTable, element);\n",
              "          const docLink = document.createElement('div');\n",
              "          docLink.innerHTML = docLinkHtml;\n",
              "          element.appendChild(docLink);\n",
              "        }\n",
              "      </script>\n",
              "    </div>\n",
              "  </div>\n",
              "  "
            ]
          },
          "metadata": {}
        },
        {
          "output_type": "stream",
          "name": "stdout",
          "text": [
            "The selected features are: \n",
            "\n"
          ]
        },
        {
          "output_type": "display_data",
          "data": {
            "text/plain": [
              "['int_rate',\n",
              " 'installment',\n",
              " 'log_annual_inc',\n",
              " 'dti',\n",
              " 'fico',\n",
              " 'days_with_cr_line',\n",
              " 'revol_util',\n",
              " 'not_fully_paid']"
            ]
          },
          "metadata": {}
        }
      ],
      "source": [
        "select = RFE(RandomForestClassifier(n_estimators=100, random_state=42), n_features_to_select=8)\n",
        "\n",
        "select.fit(X_train, y_train)\n",
        "\n",
        "mask = select.get_support()\n",
        "\n",
        "X_train_rfe = select.transform(X_train)\n",
        "X_test_rfe = select.transform(X_test)\n",
        "\n",
        "score = RandomForestClassifier().fit(X_train_rfe, y_train).score(X_test_rfe, y_test)\n",
        "\n",
        "print(\"Test score: {:.3f}\".format(score), \" number of features: {}\".format(8))\n",
        "\n",
        "features = pd.DataFrame({'features':list(loan_data[types].iloc[:,:-1].columns), 'select':list(mask)})\n",
        "display(features.T)\n",
        "features = list(features[features['select']==True]['features'])\n",
        "print(\"The selected features are: \" \"\\n\")\n",
        "display(features)\n",
        "\n",
        "#We find that 8 features provide the highest test score!"
      ]
    },
    {
      "cell_type": "code",
      "source": [
        "y_pred = select.predict(X_test)\n",
        "y_pred"
      ],
      "metadata": {
        "colab": {
          "base_uri": "https://localhost:8080/"
        },
        "id": "YCPg_IIytV8f",
        "outputId": "cac3c488-4b0c-4829-f3c7-167ebe04e5ae"
      },
      "execution_count": 29,
      "outputs": [
        {
          "output_type": "execute_result",
          "data": {
            "text/plain": [
              "array([0, 0, 1, ..., 0, 0, 0])"
            ]
          },
          "metadata": {},
          "execution_count": 29
        }
      ]
    },
    {
      "cell_type": "code",
      "source": [
        "from sklearn.metrics import classification_report, confusion_matrix\n",
        "print(confusion_matrix(y_test, y_pred))\n",
        "print(classification_report(y_test, y_pred))"
      ],
      "metadata": {
        "colab": {
          "base_uri": "https://localhost:8080/"
        },
        "id": "SjS4ZE2nt1bt",
        "outputId": "0870238b-7dd9-44b4-ab50-6c1fd55a9848"
      },
      "execution_count": 30,
      "outputs": [
        {
          "output_type": "stream",
          "name": "stdout",
          "text": [
            "[[1987   25]\n",
            " [   4  379]]\n",
            "              precision    recall  f1-score   support\n",
            "\n",
            "           0       1.00      0.99      0.99      2012\n",
            "           1       0.94      0.99      0.96       383\n",
            "\n",
            "    accuracy                           0.99      2395\n",
            "   macro avg       0.97      0.99      0.98      2395\n",
            "weighted avg       0.99      0.99      0.99      2395\n",
            "\n"
          ]
        }
      ]
    },
    {
      "cell_type": "code",
      "source": [
        "#Precision 0.97, 0.99\n",
        "#Our model results are much better than our performance metrics of 70% recall and 90% precision!\n"
      ],
      "metadata": {
        "id": "Q6JyTigz2-QM"
      },
      "execution_count": 31,
      "outputs": []
    }
  ],
  "metadata": {
    "colab": {
      "collapsed_sections": [],
      "name": "Random Forest_Feature Engineering",
      "provenance": [],
      "include_colab_link": true
    },
    "kernelspec": {
      "display_name": "Python 3",
      "name": "python3"
    },
    "language_info": {
      "name": "python"
    }
  },
  "nbformat": 4,
  "nbformat_minor": 0
}